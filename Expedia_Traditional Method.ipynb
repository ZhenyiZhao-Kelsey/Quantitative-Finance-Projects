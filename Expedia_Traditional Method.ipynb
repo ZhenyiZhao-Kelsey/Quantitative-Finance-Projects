{
 "cells": [
  {
   "cell_type": "code",
   "execution_count": 6,
   "id": "689cfb99-d882-4c51-bc10-d6ecb3007601",
   "metadata": {},
   "outputs": [],
   "source": [
    "import re\n",
    "import pandas as pd\n",
    "from collections import OrderedDict"
   ]
  },
  {
   "cell_type": "markdown",
   "id": "089469bb",
   "metadata": {},
   "source": [
    "# complete huge smaple's extraction"
   ]
  },
  {
   "cell_type": "code",
   "execution_count": 7,
   "id": "73ae7cee-b872-49bf-8d10-83d7749bd514",
   "metadata": {},
   "outputs": [],
   "source": [
    "def extract_hotel_info(file_content):\n",
    "    hotels = []\n",
    "    current_hotel = OrderedDict()\n",
    "    facility_keywords = {'Pool', 'Kitchen', 'Washer and dryer', 'Hot tub', 'Spa', 'Gym', 'Restaurant', 'Bar'}\n",
    "    \n",
    "    lines = file_content.split('\\n')\n",
    "    for line in lines:\n",
    "        line = line.strip()\n",
    "        if not line:\n",
    "            continue\n",
    "\n",
    "        if line.startswith(\"Photo gallery for\"):\n",
    "            if current_hotel:\n",
    "                hotels.append(current_hotel)\n",
    "            current_hotel = OrderedDict([\n",
    "                ('name', line.replace(\"Photo gallery for\", \"\").strip()),\n",
    "                ('rating', None),\n",
    "                ('reviews', None),\n",
    "                ('nightly_price', None),\n",
    "                ('total_price', None),\n",
    "                ('breakfast', False),\n",
    "                ('facilities', [])\n",
    "            ])\n",
    "            continue\n",
    "\n",
    "        if not current_hotel:\n",
    "            continue\n",
    "        rating_match = re.search(r'(\\d+\\.?\\d*)/10|(\\d+\\.?\\d*)\\s+out of 10', line)\n",
    "        if rating_match:\n",
    "            current_hotel['rating'] = rating_match.group(1) or rating_match.group(2)\n",
    "\n",
    "\n",
    "        if 'reviews' in line.lower():\n",
    "            reviews_match = re.search(r'(\\d+,?\\d*)', line)\n",
    "            if reviews_match: \n",
    "                current_hotel['reviews'] = reviews_match.group(1).replace(',', '')\n",
    "\n",
    "        price_match = re.search(r'\\$([\\d,]+)\\s+(nightly|total)', line)\n",
    "        if price_match:\n",
    "            price_type = f\"{price_match.group(2)}_price\"\n",
    "            current_hotel[price_type] = float(price_match.group(1).replace(',', ''))\n",
    "\n",
    "        if 'breakfast included' in line.lower():\n",
    "            current_hotel['breakfast'] = True\n",
    "\n",
    "        for facility in facility_keywords:\n",
    "            if facility.lower() in line.lower() and facility not in current_hotel['facilities']:\n",
    "                current_hotel['facilities'].append(facility)\n",
    "\n",
    "        if line.startswith(\"Photo gallery for\") and current_hotel:\n",
    "            hotels.append(current_hotel)\n",
    "            current_hotel = OrderedDict()\n",
    "\n",
    "    if current_hotel:\n",
    "        hotels.append(current_hotel)\n",
    "    \n",
    "    for hotel in hotels:\n",
    "        hotel['facilities'] = '; '.join(hotel['facilities']) if hotel['facilities'] else 'N/A'\n",
    "    \n",
    "    return hotels\n",
    "\n"
   ]
  },
  {
   "cell_type": "code",
   "execution_count": null,
   "id": "8d85dc4c-791c-46e7-8a02-389ceea8069a",
   "metadata": {},
   "outputs": [],
   "source": [
    "# example\n",
    "with open('Siem Reap, Siem Reap, Cambodia Hotel Search Results.txt', 'r', encoding='utf-8') as f:\n",
    "    file_content = f.read()\n",
    "\n",
    "hotels = extract_hotel_info(file_content)\n",
    "df = pd.DataFrame(hotels).fillna('N/A')\n",
    "\n",
    "df = df.reindex(columns=[\n",
    "    'name', 'rating', 'reviews', \n",
    "    'nightly_price', 'total_price',\n",
    "    'breakfast', 'facilities'\n",
    "])\n",
    "\n",
    "print(f\"Extracted {len(hotels)} hotels' information\")\n",
    "df\n"
   ]
  },
  {
   "cell_type": "code",
   "execution_count": 14,
   "id": "4a93a511",
   "metadata": {},
   "outputs": [],
   "source": [
    "df.to_excel(\"Expedia_Combodia_hotels.xlsx\",sheet_name = 'Expedia')"
   ]
  },
  {
   "cell_type": "code",
   "execution_count": null,
   "id": "12f17efa-eadf-4940-b021-b07df123f9dd",
   "metadata": {},
   "outputs": [],
   "source": []
  }
 ],
 "metadata": {
  "kernelspec": {
   "display_name": "Python 3 (ipykernel)",
   "language": "python",
   "name": "python3"
  },
  "language_info": {
   "codemirror_mode": {
    "name": "ipython",
    "version": 3
   },
   "file_extension": ".py",
   "mimetype": "text/x-python",
   "name": "python",
   "nbconvert_exporter": "python",
   "pygments_lexer": "ipython3",
   "version": "3.11.7"
  }
 },
 "nbformat": 4,
 "nbformat_minor": 5
}
