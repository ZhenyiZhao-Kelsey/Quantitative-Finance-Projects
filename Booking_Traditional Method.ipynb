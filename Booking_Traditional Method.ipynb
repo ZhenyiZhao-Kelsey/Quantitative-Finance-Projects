{
 "cells": [
  {
   "cell_type": "markdown",
   "id": "b65c6ef2-3f88-490d-904b-b9ca8ae85a8a",
   "metadata": {},
   "source": [
    "## Claude"
   ]
  },
  {
   "cell_type": "code",
   "execution_count": 5,
   "id": "4957f697-42a6-4d05-a847-344a7b8faafa",
   "metadata": {},
   "outputs": [],
   "source": [
    "import re\n",
    "import pandas as pd\n",
    "\n",
    "def extract_hotel_info(text):\n",
    "    \n",
    "    hotel_blocks = re.findall(r'(.*?Opens in new window.*?See availability|.*?Opens in new window.*?Price \\$\\d+)', text, re.DOTALL)\n",
    "    \n",
    "    hotels = []\n",
    "    for block in hotel_blocks:\n",
    "        hotel = {\n",
    "            'Name': 'N/A',\n",
    "            'Rating': 'N/A',\n",
    "            'Price': 'N/A',\n",
    "            'Reviews': 'N/A',\n",
    "            'Services': [],\n",
    "            'Distance': 'N/A',\n",
    "            'Room Type': 'N/A',\n",
    "            'Remaining Rooms': 'N/A'\n",
    "        }\n",
    "        \n",
    "        \n",
    "        name_match = re.search(r'([A-Za-z0-9\\s\\-\\',&]+)\\s+Opens in new window', block)\n",
    "        if name_match:\n",
    "            hotel['Name'] = name_match.group(1).strip()\n",
    "        \n",
    "        \n",
    "        price_match = re.search(r'\\$(\\d+)(?:\\$(\\d+))?', block)\n",
    "        if price_match and price_match.group(2):  \n",
    "            hotel['Price'] = int(price_match.group(2))\n",
    "        elif price_match:  \n",
    "            hotel['Price'] = int(price_match.group(1))\n",
    "        \n",
    "        rating_match = re.search(r'Scored\\s+([\\d\\.]+)', block)\n",
    "        if rating_match:\n",
    "            hotel['Rating'] = float(rating_match.group(1))\n",
    "        \n",
    "        reviews_match = re.search(r'([\\d,]+)\\s+reviews', block)\n",
    "        if reviews_match:\n",
    "            hotel['Reviews'] = int(reviews_match.group(1).replace(',', ''))\n",
    "        \n",
    "        if re.search(r'[Ff]ree\\s+cancellation', block):\n",
    "            hotel['Services'].append('Free cancellation')\n",
    "        if re.search(r'[Bb]reakfast\\s+included', block):\n",
    "            hotel['Services'].append('Breakfast included')\n",
    "        if re.search(r'[Nn]o\\s+prepayment', block):\n",
    "            hotel['Services'].append('No prepayment needed')\n",
    "        \n",
    "        distance_match = re.search(r'([\\d\\.]+)\\s+miles\\s+from\\s+downtown', block)\n",
    "        if distance_match:\n",
    "            hotel['Distance'] = f\"{distance_match.group(1)} miles\"\n",
    "        \n",
    "        room_type_match = re.search(r'([A-Za-z]+\\s+[A-Za-z]+\\s+Room|[A-Za-z]+\\s+Suite|Studio)', block)\n",
    "        if room_type_match:\n",
    "            hotel['Room Type'] = room_type_match.group(1)\n",
    "        \n",
    "        rooms_left_match = re.search(r'Only\\s+(\\d+)\\s+rooms?\\s+left', block)\n",
    "        if rooms_left_match:\n",
    "            hotel['Remaining Rooms'] = int(rooms_left_match.group(1))\n",
    "        \n",
    "        hotel['Services'] = ', '.join(hotel['Services']) if hotel['Services'] else 'N/A'\n",
    "        \n",
    "        if hotel['Name'] != 'N/A':\n",
    "            hotels.append(hotel)\n",
    "    \n",
    "    return hotels\n",
    "\n",
    "\n"
   ]
  },
  {
   "cell_type": "code",
   "execution_count": 7,
   "id": "23bf501e-a1a3-4739-8859-873282940f04",
   "metadata": {},
   "outputs": [
    {
     "name": "stdout",
     "output_type": "stream",
     "text": [
      "找到 520 家酒店\n",
      "酒店信息已成功导出\n"
     ]
    }
   ],
   "source": [
    "\n",
    "with open('Booking.com_ Hotels in Siem Reap. Book your hotel now!.txt', 'r', encoding='utf-8') as f:\n",
    "    text = f.read()\n",
    "\n",
    "hotels = extract_hotel_info(text)\n",
    "\n",
    "\n",
    "print(f\"Found {len(hotels)} hotels\")\n",
    "\n",
    "\n",
    "df = pd.DataFrame(hotels)\n",
    "df.to_excel('hotels_Indonesia_Booking.xlsx', sheet_name='Booking',index=False, \n",
    "           columns=['Name', 'Rating', 'Price', 'Reviews', 'Services', \n",
    "                    'Distance', 'Room Type', 'Remaining Rooms'])\n",
    "\n",
    "print(\"The hotel information has been successfully exported\")"
   ]
  },
  {
   "cell_type": "code",
   "execution_count": 8,
   "id": "e33b2847-3f69-4189-aca9-d234c6f1573d",
   "metadata": {},
   "outputs": [],
   "source": [
    "df = pd.DataFrame(hotels)\n",
    "df.to_excel('hotels_Cambodia_Booking.xlsx', sheet_name='Booking',index=False, \n",
    "           columns=['Name', 'Rating', 'Price', 'Reviews', 'Services', \n",
    "                    'Distance', 'Room Type', 'Remaining Rooms'])"
   ]
  },
  {
   "cell_type": "code",
   "execution_count": null,
   "id": "b8a3cc6c-fffe-4b8a-a9c4-3c52ac0cdcf1",
   "metadata": {},
   "outputs": [],
   "source": []
  }
 ],
 "metadata": {
  "kernelspec": {
   "display_name": "Python 3 (ipykernel)",
   "language": "python",
   "name": "python3"
  },
  "language_info": {
   "codemirror_mode": {
    "name": "ipython",
    "version": 3
   },
   "file_extension": ".py",
   "mimetype": "text/x-python",
   "name": "python",
   "nbconvert_exporter": "python",
   "pygments_lexer": "ipython3",
   "version": "3.12.4"
  }
 },
 "nbformat": 4,
 "nbformat_minor": 5
}
